{
 "cells": [
  {
   "cell_type": "markdown",
   "metadata": {},
   "source": [
    "## Dự đoán giá chứng khoán bằng thuật toán LSTM và Linear Regression"
   ]
  },
  {
   "cell_type": "code",
   "execution_count": null,
   "metadata": {},
   "outputs": [],
   "source": [
    "import pandas as pd\n",
    "import numpy as np\n",
    "import matplotlib.pyplot as plt\n",
    "import seaborn as sns\n",
    "from sklearn.linear_model import LinearRegression\n",
    "from sklearn import preprocessing\n",
    "from sklearn import metrics\n",
    "from sklearn import preprocessing;\n",
    "from sklearn.model_selection import train_test_split\n",
    "from sklearn import linear_model;\n",
    "from datetime import datetime\n",
    "import investpy\n",
    "from sklearn.preprocessing import MinMaxScaler\n",
    "from tqdm import tqdm\n",
    "from keras.models import Sequential\n",
    "from keras.layers import Dense\n",
    "from sklearn.metrics import mean_squared_error, r2_score, mean_absolute_error"
   ]
  },
  {
   "cell_type": "markdown",
   "metadata": {},
   "source": [
    "<h4><center>Crawl data chứng khoán của 3 mã VIC, FPT, GAS, VCB bằng thư viện investpy và lưu vào 3 DataFrame</center></h4>"
   ]
  },
  {
   "cell_type": "code",
   "execution_count": null,
   "metadata": {},
   "outputs": [],
   "source": [
    "VIC = investpy.get_stock_historical_data(stock='VIC',\n",
    "                                        country='VietNam',\n",
    "                                        from_date='01/01/2020',\n",
    "                                        to_date='10/06/2022')\n",
    "\n",
    "FPT =  investpy.get_stock_historical_data(stock='FPT',\n",
    "                                        country='VietNam',\n",
    "                                        from_date='01/01/2020',\n",
    "                                        to_date='10/06/2022')\n",
    "\n",
    "GAS =  investpy.get_stock_historical_data(stock='GAS',\n",
    "                                        country='VietNam',\n",
    "                                        from_date='01/01/2020',\n",
    "                                        to_date='10/06/2022')\n",
    "\n",
    "VCB =  investpy.get_stock_historical_data(stock='VCB',\n",
    "                                        country='VietNam',\n",
    "                                        from_date='01/01/2020',\n",
    "                                        to_date='10/06/2022')\n"
   ]
  },
  {
   "cell_type": "markdown",
   "metadata": {},
   "source": [
    "<h4><center>Xuất các thông tin cơ bản</center></h4>"
   ]
  },
  {
   "cell_type": "code",
   "execution_count": null,
   "metadata": {},
   "outputs": [],
   "source": [
    "\n",
    "VIC.info()\n",
    "FPT.info()\n",
    "GAS.info()\n",
    "VCB.info()"
   ]
  },
  {
   "cell_type": "code",
   "execution_count": null,
   "metadata": {},
   "outputs": [],
   "source": [
    "print(FPT.columns)"
   ]
  },
  {
   "cell_type": "markdown",
   "metadata": {},
   "source": [
    "<h4><center>Xuất 10 dòng cuối</center></h4>"
   ]
  },
  {
   "cell_type": "code",
   "execution_count": null,
   "metadata": {},
   "outputs": [],
   "source": [
    "company_list = [FPT, VIC, GAS, VCB]\n",
    "company_name = [\"FPT\", \"Vingroup\", \"PetroVietnam\", \"Vietcombank\"]\n",
    "\n",
    "for company, com_name in zip(company_list, company_name):\n",
    "    company[\"company_name\"] = com_name\n",
    "    \n",
    "df = pd.concat(company_list, axis=0)\n",
    "df.tail(10)"
   ]
  },
  {
   "cell_type": "markdown",
   "metadata": {},
   "source": [
    "<h4><center>Tổng quan về mã FPT (các giá trị như tổng số dòng, mean, std)</center></h4>"
   ]
  },
  {
   "cell_type": "code",
   "execution_count": null,
   "metadata": {},
   "outputs": [],
   "source": [
    "FPT.describe()"
   ]
  },
  {
   "cell_type": "markdown",
   "metadata": {},
   "source": [
    "<h4><center>Đồ thị giá đóng sàn của FPT</center></h4>"
   ]
  },
  {
   "cell_type": "code",
   "execution_count": null,
   "metadata": {},
   "outputs": [],
   "source": [
    "plt.figure(figsize=(20, 8))\n",
    "# plt.subplots_adjust(top=1.25, bottom=1.2)\n",
    "FPT['Close'].plot()\n",
    "plt.ylabel('Close')\n",
    "plt.xlabel(None)\n",
    "plt.title(f\"Giá đóng cửa của mã FPT\")"
   ]
  },
  {
   "cell_type": "markdown",
   "metadata": {},
   "source": [
    "<h4><center>Đồ thị giá trần, giá sàn, giá đóng cửa và mở cửa</center></h4>"
   ]
  },
  {
   "cell_type": "code",
   "execution_count": null,
   "metadata": {},
   "outputs": [],
   "source": [
    "from matplotlib.pyplot import title\n",
    "\n",
    "\n",
    "plt.figure(figsize=(20, 8))\n",
    "# plt.subplots_adjust(top=1.25, bottom=1.2)\n",
    "FPT['Close'].plot()\n",
    "FPT['Open'].plot()\n",
    "FPT['High'].plot()\n",
    "FPT['Low'].plot()\n",
    "plt.xlabel(None)\n",
    "plt.title(f\"Giá đóng, mở, trần và sàn của FPT\")"
   ]
  },
  {
   "cell_type": "markdown",
   "metadata": {},
   "source": [
    "<h4><center>Tổng giao dịch của FPT trong 1 ngày (đơn vị tính VND)</center></h4>"
   ]
  },
  {
   "cell_type": "code",
   "execution_count": null,
   "metadata": {},
   "outputs": [],
   "source": [
    "plt.figure(figsize=(20, 8))\n",
    "# plt.subplots_adjust(top=1.25, bottom=1.2)\n",
    "FPT['Volume'].plot()\n",
    "plt.ylabel('Volume')\n",
    "plt.xlabel(None)\n",
    "plt.title(f\"Tổng giá trị giao dịch của mã FPT\")"
   ]
  },
  {
   "cell_type": "markdown",
   "metadata": {},
   "source": [
    "Đường MA (hay còn gọi là Moving Average) là đường trung bình động, thể hiện biến động, chỉ báo xu hướng của giá cổ phiếu trong một khoảng thời gian, được tính theo công thức lấy trung bình cộng của n ngày trong chu kỳ. Ví dụ MA(10) thì lấy trung bình cộng của 10 ngày đó. \n",
    "\n",
    "Đường MA thường lấy các mốc phổ biến như 10, 20 ngày đối với MA ngắn hạn, 50 ngày cho trung hạn và 100 hoặc 200 ngày đối với dài hạn "
   ]
  },
  {
   "cell_type": "code",
   "execution_count": null,
   "metadata": {},
   "outputs": [],
   "source": [
    "ma_day = [10, 20, 30, 50]\n",
    "for ma in ma_day:\n",
    "    column_name = f\"MA for {ma} days\"\n",
    "    VIC[column_name] = VIC['Close'].rolling(ma).mean()\n",
    "VIC.info()"
   ]
  },
  {
   "cell_type": "code",
   "execution_count": null,
   "metadata": {},
   "outputs": [],
   "source": [
    "fig, axes = plt.subplots(nrows=2, ncols=2)\n",
    "fig.set_figheight(8)\n",
    "fig.set_figwidth(15)\n",
    "\n",
    "VIC[['Close', 'MA for 10 days']].plot(ax=axes[0,0])\n",
    "axes[0,0].set_title('MA(10) of Vingroup')\n",
    "\n",
    "VIC[['Close', 'MA for 20 days']].plot(ax=axes[0,1])\n",
    "axes[0,1].set_title('MA(20) of Vingroup')\n",
    "\n",
    "VIC[['Close', 'MA for 30 days']].plot(ax=axes[1,0])\n",
    "axes[1,0].set_title('MA(30) of Vingroup')\n",
    "\n",
    "VIC[['Close', 'MA for 50 days']].plot(ax=axes[1,1])\n",
    "axes[1,1].set_title('MA(50) of Vingroup')\n",
    "\n",
    "fig.tight_layout()"
   ]
  },
  {
   "cell_type": "markdown",
   "metadata": {},
   "source": [
    "Daily Return là biểu đồ thể hiện sự chênh lệch của ngày hôm nay so với ngày trước đó. Nếu biên của ngày hôm đó nằm dưới mức 0 thì giá đóng phiên ngày đó thấp hơn ngày hôm trước và ngược lại"
   ]
  },
  {
   "cell_type": "code",
   "execution_count": null,
   "metadata": {},
   "outputs": [],
   "source": [
    "FPT['Daily Return'] = FPT['Close'].pct_change()\n",
    "VCB['Daily Return'] = VCB['Close'].pct_change()\n",
    "GAS['Daily Return'] = GAS['Close'].pct_change()\n",
    "VIC['Daily Return'] = VIC['Close'].pct_change()"
   ]
  },
  {
   "cell_type": "code",
   "execution_count": null,
   "metadata": {},
   "outputs": [],
   "source": [
    "fig, axes = plt.subplots(nrows=2, ncols=2)\n",
    "fig.set_figheight(8)\n",
    "fig.set_figwidth(20)\n",
    "\n",
    "FPT[['Daily Return']].plot(legend=True, linestyle='--', marker='o', ax=axes[0,0])\n",
    "axes[0,0].set_title('FPT')\n",
    "\n",
    "VIC[['Daily Return']].plot(legend=True, linestyle='--', marker='o',ax=axes[0,1])\n",
    "axes[0,1].set_title('Vingroup')\n",
    "\n",
    "GAS[['Daily Return']].plot(legend=True, linestyle='--', marker='o',ax=axes[1,0])\n",
    "axes[1,0].set_title('Petrolimex')\n",
    "\n",
    "VCB[['Daily Return']].plot(legend=True, linestyle='--', marker='o',ax=axes[1,1])\n",
    "axes[1,1].set_title('Vietcombank')\n",
    "\n",
    "fig.tight_layout()"
   ]
  },
  {
   "cell_type": "markdown",
   "metadata": {},
   "source": [
    "<h4><center>Độ rủi ro khi đầu tư vào 4 mã chứng khoán</center></h4>"
   ]
  },
  {
   "cell_type": "code",
   "execution_count": null,
   "metadata": {},
   "outputs": [],
   "source": [
    "closing_fpt = FPT['Close']\n",
    "closing_VIC = VIC['Close']\n",
    "closing_GAS = GAS['Close']\n",
    "closing_VCB = VCB['Close']\n",
    "\n",
    "closing_df = pd.concat([closing_fpt, closing_VIC, closing_GAS, closing_VCB], axis=1, keys=['FPT', 'VIC', 'GAS', 'VCB'])\n",
    "stock_rets = closing_df.pct_change()\n",
    "rets = stock_rets.dropna()\n",
    "\n",
    "area = np.pi * 20\n",
    "\n",
    "plt.figure(figsize=(13, 10))\n",
    "plt.scatter(rets.mean(), rets.std(), s=area)\n",
    "plt.xlabel('Expected return')\n",
    "plt.ylabel('Risk')\n",
    "for label, x, y in zip(rets.columns, rets.mean(), rets.std()):\n",
    "    plt.annotate(label, xy=(x, y), xytext=(50, 50), textcoords='offset points', ha='right', va='bottom', \n",
    "                arrowprops=dict(arrowstyle='-', color='blue', connectionstyle='arc3,rad=-0.3'))"
   ]
  },
  {
   "cell_type": "markdown",
   "metadata": {},
   "source": [
    "<h2><center>Dự đoán bằng phương pháp Linear Regression</center></h2>"
   ]
  },
  {
   "cell_type": "markdown",
   "metadata": {},
   "source": [
    "Hàm chia data train và test"
   ]
  },
  {
   "cell_type": "code",
   "execution_count": null,
   "metadata": {},
   "outputs": [],
   "source": [
    "def split_data(X,Y):\n",
    "    return X[:-40], Y[:-40], X[-40:], Y[-40:]"
   ]
  },
  {
   "cell_type": "markdown",
   "metadata": {},
   "source": [
    "Hàm chuẩn hoá data về khoảng 0 1 và reshape để phù hợp với chuẩn hoá dữ liệu"
   ]
  },
  {
   "cell_type": "code",
   "execution_count": null,
   "metadata": {},
   "outputs": [],
   "source": [
    "def data_for_linear(df, timesteps= 40):\n",
    "    x=FPT.Close.values\n",
    "    x=x.reshape(-1,1)\n",
    "    #Normalization\n",
    "    \n",
    "    scaler = MinMaxScaler()\n",
    "    x_noml=scaler.fit_transform(x)\n",
    "    X=[]; Y=[]\n",
    "    for i in range(x.shape[0]- timesteps):\n",
    "        X.append(x_noml[i:i+timesteps])\n",
    "        Y.append(x_noml[i+timesteps])\n",
    "    X=np.array(X); Y= np.array(Y)\n",
    "    X= np.reshape(X, (-1,timesteps))\n",
    "    print('Input shape:{}, Output shape:{}'.format(X.shape, Y.shape))\n",
    "    return X,Y, scaler"
   ]
  },
  {
   "cell_type": "markdown",
   "metadata": {},
   "source": [
    "<h4><center>Chia tập data train test</center></h4>"
   ]
  },
  {
   "cell_type": "code",
   "execution_count": null,
   "metadata": {},
   "outputs": [],
   "source": [
    "x_linear, ylinear, lin_scaler= data_for_linear(FPT)\n",
    "xtrain, ytrain, xtest, ytest= split_data(x_linear, ylinear)"
   ]
  },
  {
   "cell_type": "markdown",
   "metadata": {},
   "source": [
    "<h4><center>Tạo model với các siêu tham số (Hyper Parameter)</center></h4>"
   ]
  },
  {
   "cell_type": "code",
   "execution_count": null,
   "metadata": {},
   "outputs": [],
   "source": [
    "\n",
    "\n",
    "liner_model= Sequential()\n",
    "liner_model.add(Dense(128, activation=None, input_shape=(40,)))\n",
    "liner_model.add(Dense(228, activation=None))\n",
    "liner_model.add(Dense(64, activation=None))\n",
    "liner_model.add(Dense(1, activation=None))\n",
    "\n",
    "liner_model.compile(optimizer='adam', loss='mse')\n",
    "liner_model.summary()"
   ]
  },
  {
   "cell_type": "code",
   "execution_count": null,
   "metadata": {},
   "outputs": [],
   "source": [
    "his= liner_model.fit(xtrain, ytrain, epochs=40)"
   ]
  },
  {
   "cell_type": "markdown",
   "metadata": {},
   "source": [
    "Forcasting"
   ]
  },
  {
   "cell_type": "code",
   "execution_count": null,
   "metadata": {},
   "outputs": [],
   "source": [
    "#-------------- True Forecasting/predicting future sales--------------------#\n",
    "ypred=[]\n",
    "for i in range(xtest.shape[0]-1):\n",
    "    p= liner_model.predict(xtest[i].reshape(1,40))\n",
    "    ypred.append(p)\n",
    "    xtest[i+1, -1]= p\n",
    "ypred.append(liner_model.predict(xtest[i+1].reshape(1,40)))\n",
    "#-------------- Note it!------------------------------------------------------#"
   ]
  },
  {
   "cell_type": "code",
   "execution_count": null,
   "metadata": {},
   "outputs": [],
   "source": [
    "\n",
    "f, ax= plt.subplots(1, 2, figsize=(30,8))\n",
    "ax[0].plot(lin_scaler.inverse_transform(ytrain))\n",
    "ax[0].plot(lin_scaler.inverse_transform(liner_model.predict(xtrain)))\n",
    "ax[0].set_title('Traning set, mse:{}'.format(mean_absolute_error(ytrain, liner_model.predict(xtrain))*100))\n",
    "ax[0].set_ylabel('Open-stock-price')\n",
    "ax[0].set_xlabel('Time')\n",
    "\n",
    "ax[1].plot(lin_scaler.inverse_transform(ytest))\n",
    "ax[1].plot(lin_scaler.inverse_transform(np.array(ypred).reshape(-1,1)))\n",
    "ax[1].set_title('Testing-set, mse:{}'.format(mean_absolute_error(ytest, np.array(ypred).reshape(-1,1))*100))\n",
    "ax[1].set_ylabel('Open-stock-price')\n",
    "ax[1].set_xlabel('Time')\n",
    "plt.show()"
   ]
  },
  {
   "cell_type": "markdown",
   "metadata": {},
   "source": [
    "<h2><center>Dự đoán bằng phương pháp LSTM</center></h2>"
   ]
  },
  {
   "cell_type": "code",
   "execution_count": 278,
   "metadata": {},
   "outputs": [],
   "source": [
    "from pandas_datareader.data import DataReader\n",
    "scaler = MinMaxScaler(feature_range=(0,1))\n",
    "\n",
    "\n",
    "dataset=FPT.Close.values\n",
    "dataset=dataset.reshape(-1,1)\n",
    "#Normalization\n",
    "\n",
    "scaler = MinMaxScaler()\n",
    "scaled_data=scaler.fit_transform(dataset)"
   ]
  },
  {
   "cell_type": "code",
   "execution_count": 279,
   "metadata": {},
   "outputs": [
    {
     "name": "stdout",
     "output_type": "stream",
     "text": [
      "[array([0.14819769, 0.1400543 , 0.13516881, 0.14412599, 0.13353986,\n",
      "       0.1400543 , 0.13924051, 0.1359826 , 0.13516881, 0.13516881,\n",
      "       0.1433122 , 0.1400543 , 0.13842671, 0.12295509, 0.13109711,\n",
      "       0.11644065, 0.09445596, 0.09038426, 0.092827  , 0.09445596,\n",
      "       0.10748347, 0.10504072, 0.09934144, 0.10748347, 0.11155516,\n",
      "       0.11318412, 0.1148117 , 0.11236896, 0.12702679, 0.12458404,\n",
      "       0.12539783, 0.11644065, 0.09852628, 0.11074137, 0.1188834 ,\n",
      "       0.12702679, 0.11969719, 0.12458404, 0.12621163, 0.12295509,\n",
      "       0.11562686, 0.11074137, 0.08061328, 0.09201321, 0.08468361,\n",
      "       0.06269892, 0.0631065 , 0.05862722, 0.06595545, 0.06514166,\n",
      "       0.05944238, 0.05944238, 0.03257083, 0.03338462, 0.04559971,\n",
      "       0.03094188, 0.02198606, 0.        , 0.00570065, 0.01547162])]\n",
      "[0.03419978253287653]\n",
      "\n",
      "[array([0.14819769, 0.1400543 , 0.13516881, 0.14412599, 0.13353986,\n",
      "       0.1400543 , 0.13924051, 0.1359826 , 0.13516881, 0.13516881,\n",
      "       0.1433122 , 0.1400543 , 0.13842671, 0.12295509, 0.13109711,\n",
      "       0.11644065, 0.09445596, 0.09038426, 0.092827  , 0.09445596,\n",
      "       0.10748347, 0.10504072, 0.09934144, 0.10748347, 0.11155516,\n",
      "       0.11318412, 0.1148117 , 0.11236896, 0.12702679, 0.12458404,\n",
      "       0.12539783, 0.11644065, 0.09852628, 0.11074137, 0.1188834 ,\n",
      "       0.12702679, 0.11969719, 0.12458404, 0.12621163, 0.12295509,\n",
      "       0.11562686, 0.11074137, 0.08061328, 0.09201321, 0.08468361,\n",
      "       0.06269892, 0.0631065 , 0.05862722, 0.06595545, 0.06514166,\n",
      "       0.05944238, 0.05944238, 0.03257083, 0.03338462, 0.04559971,\n",
      "       0.03094188, 0.02198606, 0.        , 0.00570065, 0.01547162]), array([0.1400543 , 0.13516881, 0.14412599, 0.13353986, 0.1400543 ,\n",
      "       0.13924051, 0.1359826 , 0.13516881, 0.13516881, 0.1433122 ,\n",
      "       0.1400543 , 0.13842671, 0.12295509, 0.13109711, 0.11644065,\n",
      "       0.09445596, 0.09038426, 0.092827  , 0.09445596, 0.10748347,\n",
      "       0.10504072, 0.09934144, 0.10748347, 0.11155516, 0.11318412,\n",
      "       0.1148117 , 0.11236896, 0.12702679, 0.12458404, 0.12539783,\n",
      "       0.11644065, 0.09852628, 0.11074137, 0.1188834 , 0.12702679,\n",
      "       0.11969719, 0.12458404, 0.12621163, 0.12295509, 0.11562686,\n",
      "       0.11074137, 0.08061328, 0.09201321, 0.08468361, 0.06269892,\n",
      "       0.0631065 , 0.05862722, 0.06595545, 0.06514166, 0.05944238,\n",
      "       0.05944238, 0.03257083, 0.03338462, 0.04559971, 0.03094188,\n",
      "       0.02198606, 0.        , 0.00570065, 0.01547162, 0.03419978])]\n",
      "[0.03419978253287653, 0.05781342962066349]\n",
      "\n"
     ]
    }
   ],
   "source": [
    "training_data_len = int(np.ceil( len(dataset) * .95 ))\n",
    "train_data = scaled_data[0:int(training_data_len), :]\n",
    "# Split the data into x_train and y_train data sets\n",
    "x_train = []\n",
    "y_train = []\n",
    "\n",
    "for i in range(60, len(train_data)):\n",
    "    x_train.append(train_data[i-60:i, 0])\n",
    "    y_train.append(train_data[i, 0])\n",
    "    if i<= 61:\n",
    "        print(x_train)\n",
    "        print(y_train)\n",
    "        print()\n",
    "        \n",
    "# Convert the x_train and y_train to numpy arrays \n",
    "x_train, y_train = np.array(x_train), np.array(y_train)\n",
    "\n",
    "# Reshape the data\n",
    "x_train = np.reshape(x_train, (x_train.shape[0], x_train.shape[1], 1))"
   ]
  },
  {
   "cell_type": "code",
   "execution_count": 280,
   "metadata": {},
   "outputs": [
    {
     "name": "stdout",
     "output_type": "stream",
     "text": [
      "518/518 [==============================] - 22s 34ms/step - loss: 0.0044\n"
     ]
    },
    {
     "data": {
      "text/plain": [
       "<keras.callbacks.History at 0x168eec2a650>"
      ]
     },
     "execution_count": 280,
     "metadata": {},
     "output_type": "execute_result"
    }
   ],
   "source": [
    "from keras.models import Sequential\n",
    "from keras.layers import Dense, LSTM\n",
    "\n",
    "# Build the LSTM model\n",
    "model_lstm = Sequential()\n",
    "model_lstm.add(LSTM(128, return_sequences=True, input_shape= (x_train.shape[1], 1)))\n",
    "model_lstm.add(LSTM(64, return_sequences=False))\n",
    "model_lstm.add(Dense(25))\n",
    "model_lstm.add(Dense(1))\n",
    "\n",
    "# Compile the model\n",
    "model_lstm.compile(optimizer='adam', loss='mean_squared_error')\n",
    "\n",
    "# Train the model\n",
    "model_lstm.fit(x_train, y_train, batch_size=1, epochs=1)"
   ]
  },
  {
   "cell_type": "code",
   "execution_count": 281,
   "metadata": {},
   "outputs": [
    {
     "name": "stdout",
     "output_type": "stream",
     "text": [
      "1/1 [==============================] - 2s 2s/step\n"
     ]
    },
    {
     "data": {
      "text/plain": [
       "5780.704507644327"
      ]
     },
     "execution_count": 281,
     "metadata": {},
     "output_type": "execute_result"
    }
   ],
   "source": [
    "# Create the testing data set\n",
    "# Create a new array containing scaled values from index 1543 to 2002 \n",
    "test_data = scaled_data[training_data_len - 60: , :]\n",
    "# Create the data sets x_test and y_test\n",
    "x_test = []\n",
    "y_test = dataset[training_data_len:, :]\n",
    "for i in range(60, len(test_data)):\n",
    "    x_test.append(test_data[i-60:i, 0])\n",
    "    \n",
    "# Convert the data to a numpy array\n",
    "x_test = np.array(x_test)\n",
    "\n",
    "# Reshape the data\n",
    "x_test = np.reshape(x_test, (x_test.shape[0], x_test.shape[1], 1 ))\n",
    "\n",
    "# Get the models predicted price values \n",
    "predictions = model_lstm.predict(x_test)\n",
    "predictions = scaler.inverse_transform(predictions)\n",
    "\n",
    "# Get the root mean squared error (RMSE)\n",
    "rmse = np.sqrt(np.mean(((predictions - y_test) ** 2)))\n",
    "rmse"
   ]
  },
  {
   "cell_type": "code",
   "execution_count": 283,
   "metadata": {},
   "outputs": [
    {
     "name": "stderr",
     "output_type": "stream",
     "text": [
      "C:\\Users\\Kreazy\\AppData\\Local\\Temp\\ipykernel_9564\\2082022913.py:4: SettingWithCopyWarning: \n",
      "A value is trying to be set on a copy of a slice from a DataFrame.\n",
      "Try using .loc[row_indexer,col_indexer] = value instead\n",
      "\n",
      "See the caveats in the documentation: https://pandas.pydata.org/pandas-docs/stable/user_guide/indexing.html#returning-a-view-versus-a-copy\n",
      "  valid['Predictions'] = predictions\n"
     ]
    },
    {
     "data": {
      "image/png": "[encoded data removed]",
      "text/plain": [
       "<Figure size 1152x432 with 1 Axes>"
      ]
     },
     "metadata": {
      "needs_background": "light"
     },
     "output_type": "display_data"
    }
   ],
   "source": [
    "# Plot the data\n",
    "train = FPT[:training_data_len]\n",
    "valid = FPT[training_data_len:]\n",
    "valid['Predictions'] = predictions\n",
    "# Visualize the data\n",
    "plt.figure(figsize=(16,6))\n",
    "plt.title('Model')\n",
    "plt.xlabel('Date', fontsize=18)\n",
    "plt.ylabel('Close Price USD ($)', fontsize=18)\n",
    "plt.plot(train['Close'])\n",
    "plt.plot(valid[['Close', 'Predictions']])\n",
    "plt.legend(['Train', 'Val', 'Predictions'], loc='lower right')\n",
    "plt.show()"
   ]
  }
 ],
 "metadata": {
  "kernelspec": {
   "display_name": "Python 3.10.2 64-bit",
   "language": "python",
   "name": "python3"
  },
  "language_info": {
   "codemirror_mode": {
    "name": "ipython",
    "version": 3
   },
   "file_extension": ".py",
   "mimetype": "text/x-python",
   "name": "python",
   "nbconvert_exporter": "python",
   "pygments_lexer": "ipython3",
   "version": "3.10.2"
  },
  "orig_nbformat": 4,
  "vscode": {
   "interpreter": {
    "hash": "26de051ba29f2982a8de78e945f0abaf191376122a1563185a90213a26c5da77"
   }
  }
 },
 "nbformat": 4,
 "nbformat_minor": 2
}
