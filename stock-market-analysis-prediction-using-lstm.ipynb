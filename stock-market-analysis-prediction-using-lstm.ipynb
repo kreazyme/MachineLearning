{
 "cells": [
  {
   "cell_type": "code",
   "execution_count": 1,
   "id": "25ac7cf2",
   "metadata": {
    "_kg_hide-input": true,
    "_kg_hide-output": true,
    "execution": {
     "iopub.execute_input": "2022-02-16T19:26:51.982741Z",
     "iopub.status.busy": "2022-02-16T19:26:51.981415Z",
     "iopub.status.idle": "2022-02-16T19:27:05.697051Z",
     "shell.execute_reply": "2022-02-16T19:27:05.696411Z",
     "shell.execute_reply.started": "2022-02-16T19:17:51.625390Z"
    },
    "papermill": {
     "duration": 13.76003,
     "end_time": "2022-02-16T19:27:05.697203",
     "exception": false,
     "start_time": "2022-02-16T19:26:51.937173",
     "status": "completed"
    },
    "tags": []
   },
   "outputs": [],
   "source": [
    "# !pip install -q hvplot\n",
    "# !pip install --upgrade pandas\n",
    "# !pip install --upgrade pandas-datareader\n",
    "!pip install -q yfinance"
   ]
  },
  {
   "cell_type": "code",
   "execution_count": 2,
   "id": "1d838634",
   "metadata": {
    "execution": {
     "iopub.execute_input": "2022-02-16T19:27:05.788361Z",
     "iopub.status.busy": "2022-02-16T19:27:05.787749Z",
     "iopub.status.idle": "2022-02-16T19:27:06.931166Z",
     "shell.execute_reply": "2022-02-16T19:27:06.930407Z",
     "shell.execute_reply.started": "2022-02-16T19:18:04.100508Z"
    },
    "papermill": {
     "duration": 1.192699,
     "end_time": "2022-02-16T19:27:06.931324",
     "exception": false,
     "start_time": "2022-02-16T19:27:05.738625",
     "status": "completed"
    },
    "tags": []
   },
   "outputs": [],
   "source": [
    "import pandas as pd\n",
    "import numpy as np\n",
    "\n",
    "import matplotlib.pyplot as plt\n",
    "import seaborn as sns\n",
    "sns.set_style('whitegrid')\n",
    "plt.style.use(\"fivethirtyeight\")\n",
    "%matplotlib inline\n",
    "\n",
    "# For reading stock data from yahoo\n",
    "from pandas_datareader.data import DataReader\n",
    "import yfinance as yf\n",
    "\n",
    "# For time stamps\n",
    "from datetime import datetime"
   ]
  },
  {
   "cell_type": "code",
   "execution_count": null,
   "id": "1391740d",
   "metadata": {},
   "outputs": [],
   "source": [
    "\n",
    "\n",
    "import investpy\n",
    "df2 =  investpy.get_stock_historical_data(stock='FPT',\n",
    "                                        country='VietNam',\n",
    "                                        from_date='01/01/2012',\n",
    "                                        to_date='10/06/2022')"
   ]
  },
  {
   "cell_type": "code",
   "execution_count": 3,
   "id": "be188e83",
   "metadata": {
    "execution": {
     "iopub.execute_input": "2022-02-16T19:27:42.007960Z",
     "iopub.status.busy": "2022-02-16T19:27:42.007107Z",
     "iopub.status.idle": "2022-02-16T19:27:43.123411Z",
     "shell.execute_reply": "2022-02-16T19:27:43.123854Z",
     "shell.execute_reply.started": "2022-02-16T18:45:41.910947Z"
    },
    "papermill": {
     "duration": 1.226861,
     "end_time": "2022-02-16T19:27:43.124005",
     "exception": false,
     "start_time": "2022-02-16T19:27:41.897144",
     "status": "completed"
    },
    "tags": []
   },
   "outputs": [
    {
     "data": {
      "text/html": [
       "<div>\n",
       "<style scoped>\n",
       "    .dataframe tbody tr th:only-of-type {\n",
       "        vertical-align: middle;\n",
       "    }\n",
       "\n",
       "    .dataframe tbody tr th {\n",
       "        vertical-align: top;\n",
       "    }\n",
       "\n",
       "    .dataframe thead th {\n",
       "        text-align: right;\n",
       "    }\n",
       "</style>\n",
       "<table border=\"1\" class=\"dataframe\">\n",
       "  <thead>\n",
       "    <tr style=\"text-align: right;\">\n",
       "      <th></th>\n",
       "      <th>High</th>\n",
       "      <th>Low</th>\n",
       "      <th>Open</th>\n",
       "      <th>Close</th>\n",
       "      <th>Volume</th>\n",
       "      <th>Adj Close</th>\n",
       "    </tr>\n",
       "    <tr>\n",
       "      <th>Date</th>\n",
       "      <th></th>\n",
       "      <th></th>\n",
       "      <th></th>\n",
       "      <th></th>\n",
       "      <th></th>\n",
       "      <th></th>\n",
       "    </tr>\n",
       "  </thead>\n",
       "  <tbody>\n",
       "    <tr>\n",
       "      <th>2012-01-03</th>\n",
       "      <td>14.732143</td>\n",
       "      <td>14.607143</td>\n",
       "      <td>14.621429</td>\n",
       "      <td>14.686786</td>\n",
       "      <td>302220800.0</td>\n",
       "      <td>12.557464</td>\n",
       "    </tr>\n",
       "    <tr>\n",
       "      <th>2012-01-04</th>\n",
       "      <td>14.810000</td>\n",
       "      <td>14.617143</td>\n",
       "      <td>14.642857</td>\n",
       "      <td>14.765714</td>\n",
       "      <td>260022000.0</td>\n",
       "      <td>12.624949</td>\n",
       "    </tr>\n",
       "    <tr>\n",
       "      <th>2012-01-05</th>\n",
       "      <td>14.948214</td>\n",
       "      <td>14.738214</td>\n",
       "      <td>14.819643</td>\n",
       "      <td>14.929643</td>\n",
       "      <td>271269600.0</td>\n",
       "      <td>12.765114</td>\n",
       "    </tr>\n",
       "    <tr>\n",
       "      <th>2012-01-06</th>\n",
       "      <td>15.098214</td>\n",
       "      <td>14.972143</td>\n",
       "      <td>14.991786</td>\n",
       "      <td>15.085714</td>\n",
       "      <td>318292800.0</td>\n",
       "      <td>12.898556</td>\n",
       "    </tr>\n",
       "    <tr>\n",
       "      <th>2012-01-09</th>\n",
       "      <td>15.276786</td>\n",
       "      <td>15.048214</td>\n",
       "      <td>15.196429</td>\n",
       "      <td>15.061786</td>\n",
       "      <td>394024400.0</td>\n",
       "      <td>12.878098</td>\n",
       "    </tr>\n",
       "    <tr>\n",
       "      <th>...</th>\n",
       "      <td>...</td>\n",
       "      <td>...</td>\n",
       "      <td>...</td>\n",
       "      <td>...</td>\n",
       "      <td>...</td>\n",
       "      <td>...</td>\n",
       "    </tr>\n",
       "    <tr>\n",
       "      <th>2022-06-23</th>\n",
       "      <td>138.589996</td>\n",
       "      <td>135.630005</td>\n",
       "      <td>136.820007</td>\n",
       "      <td>138.270004</td>\n",
       "      <td>72433800.0</td>\n",
       "      <td>138.270004</td>\n",
       "    </tr>\n",
       "    <tr>\n",
       "      <th>2022-06-24</th>\n",
       "      <td>141.910004</td>\n",
       "      <td>139.770004</td>\n",
       "      <td>139.899994</td>\n",
       "      <td>141.660004</td>\n",
       "      <td>89047400.0</td>\n",
       "      <td>141.660004</td>\n",
       "    </tr>\n",
       "    <tr>\n",
       "      <th>2022-06-27</th>\n",
       "      <td>143.490005</td>\n",
       "      <td>140.970001</td>\n",
       "      <td>142.699997</td>\n",
       "      <td>141.660004</td>\n",
       "      <td>70207900.0</td>\n",
       "      <td>141.660004</td>\n",
       "    </tr>\n",
       "    <tr>\n",
       "      <th>2022-06-28</th>\n",
       "      <td>143.419998</td>\n",
       "      <td>137.320007</td>\n",
       "      <td>142.130005</td>\n",
       "      <td>137.440002</td>\n",
       "      <td>67083400.0</td>\n",
       "      <td>137.440002</td>\n",
       "    </tr>\n",
       "    <tr>\n",
       "      <th>2022-06-29</th>\n",
       "      <td>140.669998</td>\n",
       "      <td>136.669998</td>\n",
       "      <td>137.460007</td>\n",
       "      <td>139.229996</td>\n",
       "      <td>66177800.0</td>\n",
       "      <td>139.229996</td>\n",
       "    </tr>\n",
       "  </tbody>\n",
       "</table>\n",
       "<p>2640 rows × 6 columns</p>\n",
       "</div>"
      ],
      "text/plain": [
       "                  High         Low        Open       Close       Volume  \\\n",
       "Date                                                                      \n",
       "2012-01-03   14.732143   14.607143   14.621429   14.686786  302220800.0   \n",
       "2012-01-04   14.810000   14.617143   14.642857   14.765714  260022000.0   \n",
       "2012-01-05   14.948214   14.738214   14.819643   14.929643  271269600.0   \n",
       "2012-01-06   15.098214   14.972143   14.991786   15.085714  318292800.0   \n",
       "2012-01-09   15.276786   15.048214   15.196429   15.061786  394024400.0   \n",
       "...                ...         ...         ...         ...          ...   \n",
       "2022-06-23  138.589996  135.630005  136.820007  138.270004   72433800.0   \n",
       "2022-06-24  141.910004  139.770004  139.899994  141.660004   89047400.0   \n",
       "2022-06-27  143.490005  140.970001  142.699997  141.660004   70207900.0   \n",
       "2022-06-28  143.419998  137.320007  142.130005  137.440002   67083400.0   \n",
       "2022-06-29  140.669998  136.669998  137.460007  139.229996   66177800.0   \n",
       "\n",
       "             Adj Close  \n",
       "Date                    \n",
       "2012-01-03   12.557464  \n",
       "2012-01-04   12.624949  \n",
       "2012-01-05   12.765114  \n",
       "2012-01-06   12.898556  \n",
       "2012-01-09   12.878098  \n",
       "...                ...  \n",
       "2022-06-23  138.270004  \n",
       "2022-06-24  141.660004  \n",
       "2022-06-27  141.660004  \n",
       "2022-06-28  137.440002  \n",
       "2022-06-29  139.229996  \n",
       "\n",
       "[2640 rows x 6 columns]"
      ]
     },
     "execution_count": 3,
     "metadata": {},
     "output_type": "execute_result"
    }
   ],
   "source": [
    "# Get the stock quote\n",
    "df = DataReader('AAPL', data_source='yahoo', start='2012-01-01', end=datetime.now())\n",
    "# Show teh data\n",
    "df"
   ]
  },
  {
   "cell_type": "code",
   "execution_count": 4,
   "id": "bd2e9c5f",
   "metadata": {},
   "outputs": [
    {
     "data": {
      "text/plain": [
       "Index(['High', 'Low', 'Open', 'Close', 'Volume', 'Adj Close'], dtype='object')"
      ]
     },
     "execution_count": 4,
     "metadata": {},
     "output_type": "execute_result"
    }
   ],
   "source": [
    "df.columns"
   ]
  },
  {
   "cell_type": "code",
   "execution_count": 5,
   "id": "3dd7e21f",
   "metadata": {
    "execution": {
     "iopub.execute_input": "2022-02-16T19:27:43.303561Z",
     "iopub.status.busy": "2022-02-16T19:27:43.291097Z",
     "iopub.status.idle": "2022-02-16T19:27:43.679577Z",
     "shell.execute_reply": "2022-02-16T19:27:43.679013Z",
     "shell.execute_reply.started": "2022-02-16T18:45:43.099065Z"
    },
    "papermill": {
     "duration": 0.48163,
     "end_time": "2022-02-16T19:27:43.679717",
     "exception": false,
     "start_time": "2022-02-16T19:27:43.198087",
     "status": "completed"
    },
    "tags": []
   },
   "outputs": [
    {
     "data": {
      "image/png": "[encoded data removed]",
      "text/plain": [
       "<Figure size 1152x432 with 1 Axes>"
      ]
     },
     "metadata": {
      "needs_background": "light"
     },
     "output_type": "display_data"
    }
   ],
   "source": [
    "plt.figure(figsize=(16,6))\n",
    "plt.title('Close Price History')\n",
    "plt.plot(df['Close'])\n",
    "plt.xlabel('Date', fontsize=18)\n",
    "plt.ylabel('Close Price USD ($)', fontsize=18)\n",
    "plt.show()"
   ]
  },
  {
   "cell_type": "code",
   "execution_count": 6,
   "id": "a616f7c6",
   "metadata": {
    "execution": {
     "iopub.execute_input": "2022-02-16T19:27:43.899038Z",
     "iopub.status.busy": "2022-02-16T19:27:43.898214Z",
     "iopub.status.idle": "2022-02-16T19:27:43.902162Z",
     "shell.execute_reply": "2022-02-16T19:27:43.901593Z",
     "shell.execute_reply.started": "2022-02-16T18:45:43.606563Z"
    },
    "papermill": {
     "duration": 0.117174,
     "end_time": "2022-02-16T19:27:43.902321",
     "exception": false,
     "start_time": "2022-02-16T19:27:43.785147",
     "status": "completed"
    },
    "tags": []
   },
   "outputs": [
    {
     "data": {
      "text/plain": [
       "2508"
      ]
     },
     "execution_count": 6,
     "metadata": {},
     "output_type": "execute_result"
    }
   ],
   "source": [
    "# Create a new dataframe with only the 'Close column \n",
    "data = df.filter(['Close'])\n",
    "# Convert the dataframe to a numpy array\n",
    "dataset = data.values\n",
    "# Get the number of rows to train the model on\n",
    "training_data_len = int(np.ceil( len(dataset) * .95 ))\n",
    "\n",
    "training_data_len"
   ]
  },
  {
   "cell_type": "code",
   "execution_count": 7,
   "id": "e240e9e5",
   "metadata": {
    "execution": {
     "iopub.execute_input": "2022-02-16T19:27:44.120922Z",
     "iopub.status.busy": "2022-02-16T19:27:44.120108Z",
     "iopub.status.idle": "2022-02-16T19:27:44.248321Z",
     "shell.execute_reply": "2022-02-16T19:27:44.248880Z",
     "shell.execute_reply.started": "2022-02-16T18:45:43.622961Z"
    },
    "papermill": {
     "duration": 0.240607,
     "end_time": "2022-02-16T19:27:44.249089",
     "exception": false,
     "start_time": "2022-02-16T19:27:44.008482",
     "status": "completed"
    },
    "tags": []
   },
   "outputs": [
    {
     "data": {
      "text/plain": [
       "array([[0.00439887],\n",
       "       [0.00486851],\n",
       "       [0.00584391],\n",
       "       ...,\n",
       "       [0.75991079],\n",
       "       [0.73480108],\n",
       "       [0.74545184]])"
      ]
     },
     "execution_count": 7,
     "metadata": {},
     "output_type": "execute_result"
    }
   ],
   "source": [
    "# Scale the data\n",
    "from sklearn.preprocessing import MinMaxScaler\n",
    "\n",
    "scaler = MinMaxScaler(feature_range=(0,1))\n",
    "scaled_data = scaler.fit_transform(dataset)\n",
    "\n",
    "scaled_data"
   ]
  },
  {
   "cell_type": "code",
   "execution_count": 8,
   "id": "87cabb30",
   "metadata": {
    "_kg_hide-output": true,
    "execution": {
     "iopub.execute_input": "2022-02-16T19:27:44.472887Z",
     "iopub.status.busy": "2022-02-16T19:27:44.472348Z",
     "iopub.status.idle": "2022-02-16T19:27:44.483988Z",
     "shell.execute_reply": "2022-02-16T19:27:44.484657Z",
     "shell.execute_reply.started": "2022-02-16T18:45:43.873542Z"
    },
    "papermill": {
     "duration": 0.128093,
     "end_time": "2022-02-16T19:27:44.484878",
     "exception": false,
     "start_time": "2022-02-16T19:27:44.356785",
     "status": "completed"
    },
    "tags": []
   },
   "outputs": [
    {
     "name": "stdout",
     "output_type": "stream",
     "text": [
      "[array([0.00439887, 0.00486851, 0.00584391, 0.00677256, 0.00663019,\n",
      "       0.00695107, 0.00680444, 0.00655793, 0.00622217, 0.00726133,\n",
      "       0.00819848, 0.00790947, 0.0063263 , 0.00783722, 0.00634968,\n",
      "       0.01192796, 0.01149658, 0.01205972, 0.01327737, 0.01401476,\n",
      "       0.01395314, 0.01372576, 0.01469479, 0.01560643, 0.01663922,\n",
      "       0.01830739, 0.02181161, 0.02186474, 0.02381555, 0.02527333,\n",
      "       0.0227679 , 0.02373267, 0.02371354, 0.02641875, 0.02603411,\n",
      "       0.026746  , 0.02802528, 0.02873719, 0.03078787, 0.03228178,\n",
      "       0.03271317, 0.03286405, 0.03030973, 0.02969346, 0.02978484,\n",
      "       0.03218616, 0.03286193, 0.03431335, 0.03773469, 0.04229932,\n",
      "       0.04144504, 0.04144716, 0.04474738, 0.04578017, 0.04504489,\n",
      "       0.04437338, 0.04367423, 0.04599691, 0.04759072, 0.04825798])]\n",
      "[0.04660893460974819]\n",
      "\n",
      "[array([0.00439887, 0.00486851, 0.00584391, 0.00677256, 0.00663019,\n",
      "       0.00695107, 0.00680444, 0.00655793, 0.00622217, 0.00726133,\n",
      "       0.00819848, 0.00790947, 0.0063263 , 0.00783722, 0.00634968,\n",
      "       0.01192796, 0.01149658, 0.01205972, 0.01327737, 0.01401476,\n",
      "       0.01395314, 0.01372576, 0.01469479, 0.01560643, 0.01663922,\n",
      "       0.01830739, 0.02181161, 0.02186474, 0.02381555, 0.02527333,\n",
      "       0.0227679 , 0.02373267, 0.02371354, 0.02641875, 0.02603411,\n",
      "       0.026746  , 0.02802528, 0.02873719, 0.03078787, 0.03228178,\n",
      "       0.03271317, 0.03286405, 0.03030973, 0.02969346, 0.02978484,\n",
      "       0.03218616, 0.03286193, 0.03431335, 0.03773469, 0.04229932,\n",
      "       0.04144504, 0.04144716, 0.04474738, 0.04578017, 0.04504489,\n",
      "       0.04437338, 0.04367423, 0.04599691, 0.04759072, 0.04825798]), array([0.00486851, 0.00584391, 0.00677256, 0.00663019, 0.00695107,\n",
      "       0.00680444, 0.00655793, 0.00622217, 0.00726133, 0.00819848,\n",
      "       0.00790947, 0.0063263 , 0.00783722, 0.00634968, 0.01192796,\n",
      "       0.01149658, 0.01205972, 0.01327737, 0.01401476, 0.01395314,\n",
      "       0.01372576, 0.01469479, 0.01560643, 0.01663922, 0.01830739,\n",
      "       0.02181161, 0.02186474, 0.02381555, 0.02527333, 0.0227679 ,\n",
      "       0.02373267, 0.02371354, 0.02641875, 0.02603411, 0.026746  ,\n",
      "       0.02802528, 0.02873719, 0.03078787, 0.03228178, 0.03271317,\n",
      "       0.03286405, 0.03030973, 0.02969346, 0.02978484, 0.03218616,\n",
      "       0.03286193, 0.03431335, 0.03773469, 0.04229932, 0.04144504,\n",
      "       0.04144716, 0.04474738, 0.04578017, 0.04504489, 0.04437338,\n",
      "       0.04367423, 0.04599691, 0.04759072, 0.04825798, 0.04660893])]\n",
      "[0.04660893460974819, 0.04441800167645807]\n",
      "\n"
     ]
    }
   ],
   "source": [
    "# Create the training data set \n",
    "# Create the scaled training data set\n",
    "train_data = scaled_data[0:int(training_data_len), :]\n",
    "# Split the data into x_train and y_train data sets\n",
    "x_train = []\n",
    "y_train = []\n",
    "\n",
    "for i in range(60, len(train_data)):\n",
    "    x_train.append(train_data[i-60:i, 0])\n",
    "    y_train.append(train_data[i, 0])\n",
    "    if i<= 61:\n",
    "        print(x_train)\n",
    "        print(y_train)\n",
    "        print()\n",
    "        \n",
    "# Convert the x_train and y_train to numpy arrays \n",
    "x_train, y_train = np.array(x_train), np.array(y_train)\n",
    "\n",
    "# Reshape the data\n",
    "x_train = np.reshape(x_train, (x_train.shape[0], x_train.shape[1], 1))\n",
    "# x_train.shape"
   ]
  },
  {
   "cell_type": "code",
   "execution_count": 9,
   "id": "3b0a2cf1",
   "metadata": {
    "execution": {
     "iopub.execute_input": "2022-02-16T19:27:44.706762Z",
     "iopub.status.busy": "2022-02-16T19:27:44.706114Z",
     "iopub.status.idle": "2022-02-16T19:29:27.837434Z",
     "shell.execute_reply": "2022-02-16T19:29:27.836965Z",
     "shell.execute_reply.started": "2022-02-16T18:45:43.896022Z"
    },
    "papermill": {
     "duration": 103.243164,
     "end_time": "2022-02-16T19:29:27.837592",
     "exception": false,
     "start_time": "2022-02-16T19:27:44.594428",
     "status": "completed"
    },
    "tags": []
   },
   "outputs": [
    {
     "name": "stdout",
     "output_type": "stream",
     "text": [
      "2448/2448 [==============================] - 86s 34ms/step - loss: 0.0012\n"
     ]
    },
    {
     "data": {
      "text/plain": [
       "<keras.callbacks.History at 0x232d1ca6560>"
      ]
     },
     "execution_count": 9,
     "metadata": {},
     "output_type": "execute_result"
    }
   ],
   "source": [
    "from keras.models import Sequential\n",
    "from keras.layers import Dense, LSTM\n",
    "\n",
    "# Build the LSTM model\n",
    "model = Sequential()\n",
    "model.add(LSTM(128, return_sequences=True, input_shape= (x_train.shape[1], 1)))\n",
    "model.add(LSTM(64, return_sequences=False))\n",
    "model.add(Dense(25))\n",
    "model.add(Dense(1))\n",
    "\n",
    "# Compile the model\n",
    "model.compile(optimizer='adam', loss='mean_squared_error')\n",
    "\n",
    "# Train the model\n",
    "model.fit(x_train, y_train, batch_size=1, epochs=1)"
   ]
  },
  {
   "cell_type": "code",
   "execution_count": 10,
   "id": "03ff7ff9",
   "metadata": {
    "execution": {
     "iopub.execute_input": "2022-02-16T19:29:28.744776Z",
     "iopub.status.busy": "2022-02-16T19:29:28.742411Z",
     "iopub.status.idle": "2022-02-16T19:29:29.844123Z",
     "shell.execute_reply": "2022-02-16T19:29:29.844715Z",
     "shell.execute_reply.started": "2022-02-16T18:48:27.505874Z"
    },
    "papermill": {
     "duration": 1.559536,
     "end_time": "2022-02-16T19:29:29.844894",
     "exception": false,
     "start_time": "2022-02-16T19:29:28.285358",
     "status": "completed"
    },
    "tags": []
   },
   "outputs": [
    {
     "name": "stdout",
     "output_type": "stream",
     "text": [
      "5/5 [==============================] - 2s 41ms/step\n"
     ]
    },
    {
     "data": {
      "text/plain": [
       "8.490698888833963"
      ]
     },
     "execution_count": 10,
     "metadata": {},
     "output_type": "execute_result"
    }
   ],
   "source": [
    "# Create the testing data set\n",
    "# Create a new array containing scaled values from index 1543 to 2002 \n",
    "test_data = scaled_data[training_data_len - 60: , :]\n",
    "# Create the data sets x_test and y_test\n",
    "x_test = []\n",
    "y_test = dataset[training_data_len:, :]\n",
    "for i in range(60, len(test_data)):\n",
    "    x_test.append(test_data[i-60:i, 0])\n",
    "    \n",
    "# Convert the data to a numpy array\n",
    "x_test = np.array(x_test)\n",
    "\n",
    "# Reshape the data\n",
    "x_test = np.reshape(x_test, (x_test.shape[0], x_test.shape[1], 1 ))\n",
    "\n",
    "# Get the models predicted price values \n",
    "predictions = model.predict(x_test)\n",
    "predictions = scaler.inverse_transform(predictions)\n",
    "\n",
    "# Get the root mean squared error (RMSE)\n",
    "rmse = np.sqrt(np.mean(((predictions - y_test) ** 2)))\n",
    "rmse"
   ]
  },
  {
   "cell_type": "code",
   "execution_count": 11,
   "id": "d5a47187",
   "metadata": {},
   "outputs": [
    {
     "name": "stdout",
     "output_type": "stream",
     "text": [
      "7.146132151285808\n"
     ]
    }
   ],
   "source": [
    "from sklearn.metrics import mean_squared_error, r2_score, mean_absolute_error\n",
    "print(format(mean_absolute_error(predictions, y_test)))"
   ]
  },
  {
   "cell_type": "code",
   "execution_count": 12,
   "id": "655df1f8",
   "metadata": {
    "execution": {
     "iopub.execute_input": "2022-02-16T19:29:31.252637Z",
     "iopub.status.busy": "2022-02-16T19:29:31.251954Z",
     "iopub.status.idle": "2022-02-16T19:29:31.661676Z",
     "shell.execute_reply": "2022-02-16T19:29:31.662275Z",
     "shell.execute_reply.started": "2022-02-16T18:48:28.548884Z"
    },
    "papermill": {
     "duration": 1.115394,
     "end_time": "2022-02-16T19:29:31.662457",
     "exception": false,
     "start_time": "2022-02-16T19:29:30.547063",
     "status": "completed"
    },
    "tags": []
   },
   "outputs": [
    {
     "name": "stderr",
     "output_type": "stream",
     "text": [
      "C:\\Users\\Kreazy\\AppData\\Local\\Temp\\ipykernel_7420\\2388977846.py:4: SettingWithCopyWarning: \n",
      "A value is trying to be set on a copy of a slice from a DataFrame.\n",
      "Try using .loc[row_indexer,col_indexer] = value instead\n",
      "\n",
      "See the caveats in the documentation: https://pandas.pydata.org/pandas-docs/stable/user_guide/indexing.html#returning-a-view-versus-a-copy\n",
      "  valid['Predictions'] = predictions\n"
     ]
    },
    {
     "data": {
      "image/png": "[encoded data removed]",
      "text/plain": [
       "<Figure size 1152x432 with 1 Axes>"
      ]
     },
     "metadata": {
      "needs_background": "light"
     },
     "output_type": "display_data"
    }
   ],
   "source": [
    "# Plot the data\n",
    "train = data[:training_data_len]\n",
    "valid = data[training_data_len:]\n",
    "valid['Predictions'] = predictions\n",
    "# Visualize the data\n",
    "plt.figure(figsize=(16,6))\n",
    "plt.title('Model')\n",
    "plt.xlabel('Date', fontsize=18)\n",
    "plt.ylabel('Close Price USD ($)', fontsize=18)\n",
    "plt.plot(train['Close'])\n",
    "plt.plot(valid[['Close', 'Predictions']])\n",
    "plt.legend(['Train', 'Val', 'Predictions'], loc='lower right')\n",
    "plt.show()"
   ]
  },
  {
   "cell_type": "code",
   "execution_count": 13,
   "id": "dd95df61",
   "metadata": {
    "execution": {
     "iopub.execute_input": "2022-02-16T19:29:33.069235Z",
     "iopub.status.busy": "2022-02-16T19:29:33.068619Z",
     "iopub.status.idle": "2022-02-16T19:29:33.078250Z",
     "shell.execute_reply": "2022-02-16T19:29:33.078883Z",
     "shell.execute_reply.started": "2022-02-16T18:48:29.012801Z"
    },
    "papermill": {
     "duration": 0.717585,
     "end_time": "2022-02-16T19:29:33.079035",
     "exception": false,
     "start_time": "2022-02-16T19:29:32.361450",
     "status": "completed"
    },
    "tags": []
   },
   "outputs": [
    {
     "data": {
      "text/html": [
       "<div>\n",
       "<style scoped>\n",
       "    .dataframe tbody tr th:only-of-type {\n",
       "        vertical-align: middle;\n",
       "    }\n",
       "\n",
       "    .dataframe tbody tr th {\n",
       "        vertical-align: top;\n",
       "    }\n",
       "\n",
       "    .dataframe thead th {\n",
       "        text-align: right;\n",
       "    }\n",
       "</style>\n",
       "<table border=\"1\" class=\"dataframe\">\n",
       "  <thead>\n",
       "    <tr style=\"text-align: right;\">\n",
       "      <th></th>\n",
       "      <th>Close</th>\n",
       "      <th>Predictions</th>\n",
       "    </tr>\n",
       "    <tr>\n",
       "      <th>Date</th>\n",
       "      <th></th>\n",
       "      <th></th>\n",
       "    </tr>\n",
       "  </thead>\n",
       "  <tbody>\n",
       "    <tr>\n",
       "      <th>2021-12-20</th>\n",
       "      <td>169.750000</td>\n",
       "      <td>165.651917</td>\n",
       "    </tr>\n",
       "    <tr>\n",
       "      <th>2021-12-21</th>\n",
       "      <td>172.990005</td>\n",
       "      <td>164.738205</td>\n",
       "    </tr>\n",
       "    <tr>\n",
       "      <th>2021-12-22</th>\n",
       "      <td>175.639999</td>\n",
       "      <td>164.235291</td>\n",
       "    </tr>\n",
       "    <tr>\n",
       "      <th>2021-12-23</th>\n",
       "      <td>176.279999</td>\n",
       "      <td>164.332794</td>\n",
       "    </tr>\n",
       "    <tr>\n",
       "      <th>2021-12-27</th>\n",
       "      <td>180.330002</td>\n",
       "      <td>164.771896</td>\n",
       "    </tr>\n",
       "    <tr>\n",
       "      <th>...</th>\n",
       "      <td>...</td>\n",
       "      <td>...</td>\n",
       "    </tr>\n",
       "    <tr>\n",
       "      <th>2022-06-23</th>\n",
       "      <td>138.270004</td>\n",
       "      <td>129.103485</td>\n",
       "    </tr>\n",
       "    <tr>\n",
       "      <th>2022-06-24</th>\n",
       "      <td>141.660004</td>\n",
       "      <td>129.727783</td>\n",
       "    </tr>\n",
       "    <tr>\n",
       "      <th>2022-06-27</th>\n",
       "      <td>141.660004</td>\n",
       "      <td>130.987030</td>\n",
       "    </tr>\n",
       "    <tr>\n",
       "      <th>2022-06-28</th>\n",
       "      <td>137.440002</td>\n",
       "      <td>132.342850</td>\n",
       "    </tr>\n",
       "    <tr>\n",
       "      <th>2022-06-29</th>\n",
       "      <td>139.229996</td>\n",
       "      <td>132.971939</td>\n",
       "    </tr>\n",
       "  </tbody>\n",
       "</table>\n",
       "<p>132 rows × 2 columns</p>\n",
       "</div>"
      ],
      "text/plain": [
       "                 Close  Predictions\n",
       "Date                               \n",
       "2021-12-20  169.750000   165.651917\n",
       "2021-12-21  172.990005   164.738205\n",
       "2021-12-22  175.639999   164.235291\n",
       "2021-12-23  176.279999   164.332794\n",
       "2021-12-27  180.330002   164.771896\n",
       "...                ...          ...\n",
       "2022-06-23  138.270004   129.103485\n",
       "2022-06-24  141.660004   129.727783\n",
       "2022-06-27  141.660004   130.987030\n",
       "2022-06-28  137.440002   132.342850\n",
       "2022-06-29  139.229996   132.971939\n",
       "\n",
       "[132 rows x 2 columns]"
      ]
     },
     "execution_count": 13,
     "metadata": {},
     "output_type": "execute_result"
    }
   ],
   "source": [
    "# Show the valid and predicted prices\n",
    "valid"
   ]
  }
 ],
 "metadata": {
  "kernelspec": {
   "display_name": "Python 3.10.2 64-bit",
   "language": "python",
   "name": "python3"
  },
  "language_info": {
   "codemirror_mode": {
    "name": "ipython",
    "version": 3
   },
   "file_extension": ".py",
   "mimetype": "text/x-python",
   "name": "python",
   "nbconvert_exporter": "python",
   "pygments_lexer": "ipython3",
   "version": "3.10.2"
  },
  "papermill": {
   "default_parameters": {},
   "duration": 175.931953,
   "end_time": "2022-02-16T19:29:36.783727",
   "environment_variables": {},
   "exception": null,
   "input_path": "__notebook__.ipynb",
   "output_path": "__notebook__.ipynb",
   "parameters": {},
   "start_time": "2022-02-16T19:26:40.851774",
   "version": "2.3.3"
  },
  "vscode": {
   "interpreter": {
    "hash": "26de051ba29f2982a8de78e945f0abaf191376122a1563185a90213a26c5da77"
   }
  }
 },
 "nbformat": 4,
 "nbformat_minor": 5
}
